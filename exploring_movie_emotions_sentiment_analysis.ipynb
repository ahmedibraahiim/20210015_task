{
  "metadata": {
    "kernelspec": {
      "display_name": "Python 3",
      "name": "python3"
    },
    "language_info": {
      "name": "python",
      "version": "3.10.12",
      "mimetype": "text/x-python",
      "codemirror_mode": {
        "name": "ipython",
        "version": 3
      },
      "pygments_lexer": "ipython3",
      "nbconvert_exporter": "python",
      "file_extension": ".py"
    },
    "colab": {
      "provenance": [],
      "gpuType": "T4"
    },
    "accelerator": "GPU"
  },
  "nbformat_minor": 0,
  "nbformat": 4,
  "cells": [
    {
      "cell_type": "code",
      "source": [
        "import pandas as pd\n",
        "from sklearn.model_selection import train_test_split\n",
        "from sklearn.feature_extraction.text import TfidfVectorizer\n",
        "from sklearn.linear_model import LogisticRegression\n",
        "from sklearn.metrics import accuracy_score\n",
        "from sklearn.preprocessing import LabelEncoder\n",
        "\n",
        "def load_data(file_path):\n",
        "    df = pd.read_csv(file_path)\n",
        "    return df['review'], df['sentiment']\n",
        "\n",
        "def preprocess_labels(y):\n",
        "    encoder = LabelEncoder()\n",
        "    return encoder, encoder.fit_transform(y)\n",
        "\n",
        "def prepare_data(X, Y, test_size=0.2, random_state=42):\n",
        "    return train_test_split(X, Y, test_size=test_size, random_state=random_state)\n",
        "\n",
        "def vectorize_text(train_text, test_text, max_features=10000):\n",
        "    vectorizer = TfidfVectorizer(max_features=max_features)\n",
        "    return vectorizer.fit_transform(train_text), vectorizer.transform(test_text), vectorizer\n",
        "\n",
        "def train_model(X_train, y_train):\n",
        "    model = LogisticRegression()\n",
        "    model.fit(X_train, y_train)\n",
        "    return model\n",
        "\n",
        "def evaluate_model(model, X_test, y_test):\n",
        "    predictions = model.predict(X_test)\n",
        "    accuracy = accuracy_score(y_test, predictions)\n",
        "    print(f\"Test Accuracy: {accuracy * 100:.2f}%\")\n",
        "    return predictions\n",
        "\n",
        "def display_predictions(predictions, true_values, label_encoder, num_samples=5):\n",
        "    print(\"\\nPredictions for the first 5 test samples:\")\n",
        "    for pred in predictions[:num_samples]:\n",
        "        print(label_encoder.inverse_transform([pred])[0])\n",
        "\n",
        "    print(\"\\nTrue values for the first 5 test samples:\")\n",
        "    for true_val in true_values[:num_samples]:\n",
        "        print(label_encoder.inverse_transform([true_val])[0])\n",
        "\n",
        "if __name__ == \"__main__\":\n",
        "    file_path = \"/content/drive/MyDrive/IMDB Dataset.csv\"\n",
        "\n",
        "    X, Y = load_data(file_path)\n",
        "    label_encoder, Y = preprocess_labels(Y)\n",
        "    X_train, X_test, y_train, y_test = prepare_data(X, Y)\n",
        "    X_train_vec, X_test_vec, vectorizer = vectorize_text(X_train, X_test)\n",
        "\n",
        "    model = train_model(X_train_vec, y_train)\n",
        "\n",
        "    predictions = evaluate_model(model, X_test_vec, y_test)\n",
        "\n",
        "    display_predictions(predictions, y_test, label_encoder)"
      ],
      "metadata": {
        "colab": {
          "base_uri": "https://localhost:8080/"
        },
        "id": "Bd0OgVnhHJ6g",
        "outputId": "2d76de43-e68f-45c2-df2e-f9a34c56b4f9"
      },
      "execution_count": 29,
      "outputs": [
        {
          "output_type": "stream",
          "name": "stdout",
          "text": [
            "Test Accuracy: 89.92%\n",
            "\n",
            "Predictions for the first 5 test samples:\n",
            "negative\n",
            "positive\n",
            "negative\n",
            "positive\n",
            "negative\n",
            "\n",
            "True values for the first 5 test samples:\n",
            "positive\n",
            "positive\n",
            "negative\n",
            "positive\n",
            "negative\n"
          ]
        }
      ]
    }
  ]
}